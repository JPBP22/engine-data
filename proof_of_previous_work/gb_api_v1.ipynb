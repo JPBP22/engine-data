{
 "cells": [
  {
   "cell_type": "code",
   "execution_count": null,
   "metadata": {},
   "outputs": [],
   "source": [
    "import requests\n",
    "import csv\n",
    "\n",
    "def retrieve_games_info(game_name):\n",
    "    # API endpoint to retrieve game details\n",
    "    endpoint = \"https://www.giantbomb.com/api/search\"\n",
    "\n",
    "    # API key, you'll need to sign up for a free API key to use the GiantBomb API\n",
    "    api_key = \"your_api_key_here\"\n",
    "\n",
    "    # Query parameters for the API request\n",
    "    params = {\n",
    "        \"api_key\": api_key,\n",
    "        \"format\": \"json\",\n",
    "        \"query\": game_name,\n",
    "        \"resources\": \"game\",\n",
    "        \"field_list\": \"name,expected_release_day,platforms,characters,dlcs,concepts,franchises,genres,regions,releases,description\",\n",
    "        \"limit\": 1000 # Limit the number of results to 1000\n",
    "    }\n",
    "\n",
    "    # Send the API request and retrieve the response\n",
    "    response = requests.get(endpoint, params=params)\n",
    "\n",
    "    # Check if the response was successful\n",
    "    if response.status_code == 200:\n",
    "        # Extract the games information from the response\n",
    "        games_info = response.json()[\"results\"]\n",
    "\n",
    "        # Filter the games to include only the ones available on Steam\n",
    "        steam_games = [game for game in games_info if \"Steam\" in [platform[\"name\"] for platform in game[\"platforms\"]]]\n",
    "\n",
    "        return steam_games\n",
    "\n",
    "def save_to_csv(games_info, file_name):\n",
    "    # Write the games information to a CSV file\n",
    "    with open(file_name, \"w\", newline=\"\") as csvfile:\n",
    "        writer = csv.DictWriter(csvfile, fieldnames=[\"Name\", \"Description\", \"Expected Release Day\", \"Characters\", \"DLCs\", \"Concepts\", \"Franchises\", \"Genres\", \"Regions\", \"Releases\"])\n",
    "        writer.writeheader()\n",
    "        for game in games_info:\n",
    "            writer.writerow({\n",
    "                \"Name\": game[\"name\"],\n",
    "                \"Description\": game.get(\"description\", \"\"),\n",
    "                \"Expected Release Day\": game.get(\"expected_release_day\", \"\"),\n",
    "                \"Characters\": \", \".join([character[\"name\"] for character in game.get(\"characters\", [])]),\n",
    "                \"DLCs\": \", \".join([dlc[\"name\"] for dlc in game.get(\"dlcs\", [])]),\n",
    "                \"Concepts\": \", \".join([concept[\"name\"] for concept in game.get(\"concepts\", [])]),\n",
    "                \"Franchises\": \", \".join([franchise[\"name\"] for franchise in game.get(\"franchises\", [])]),\n",
    "                \"Genres\": \", \".join([genre[\"name\"] for genre in game.get(\"genres\", [])]),\n",
    "                \"Regions\": \", \".join([region[\"name\"] for region in game.get(\"regions\", [])]),\n",
    "                \"Releases\": \", \".join([release[\"name\"] for release in game.get(\"releases\", [])])\n",
    "            })\n",
    "\n",
    "# Example usage\n",
    "games_info = retrieve_games_info(\"your_game_name_here\")\n",
    "save_to_csv(games_info, \"steam_games.csv\")\n"
   ]
  }
 ],
 "metadata": {
  "kernelspec": {
   "display_name": "Python 3",
   "language": "python",
   "name": "python3"
  },
  "language_info": {
   "name": "python",
   "version": "3.10.10"
  },
  "orig_nbformat": 4,
  "vscode": {
   "interpreter": {
    "hash": "5433fb84773a355a8b49a509755fbaf90af8d3314a937ab5aa5bf275c1195cd2"
   }
  }
 },
 "nbformat": 4,
 "nbformat_minor": 2
}
