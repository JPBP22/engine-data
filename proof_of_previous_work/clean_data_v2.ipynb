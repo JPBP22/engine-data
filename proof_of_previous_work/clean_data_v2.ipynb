{
 "cells": [
  {
   "cell_type": "markdown",
   "metadata": {},
   "source": [
    "### Cleaning data filters"
   ]
  },
  {
   "cell_type": "markdown",
   "metadata": {},
   "source": [
    "In this notebook we will generate different filters for cleaning the main 'all_games_nl.csv' dataset based on different criterion."
   ]
  },
  {
   "cell_type": "code",
   "execution_count": 1,
   "metadata": {},
   "outputs": [],
   "source": [
    "import pandas as pd"
   ]
  },
  {
   "cell_type": "markdown",
   "metadata": {},
   "source": [
    "1) Filter demo games from all_games_nl.csv"
   ]
  },
  {
   "cell_type": "code",
   "execution_count": 4,
   "metadata": {},
   "outputs": [],
   "source": [
    "import re"
   ]
  },
  {
   "cell_type": "code",
   "execution_count": 5,
   "metadata": {},
   "outputs": [
    {
     "name": "stderr",
     "output_type": "stream",
     "text": [
      "/var/folders/jj/dtp054bj5_3_b929z039xmfc0000gn/T/ipykernel_12193/3791034209.py:6: UserWarning: This pattern is interpreted as a regular expression, and has match groups. To actually get the groups, use str.extract.\n",
      "  df = df[df['name'].str.contains(regex)]\n"
     ]
    }
   ],
   "source": [
    "# We filter demo games from the all_games_nl.csv file\n",
    "def filter_demo(file_in, file_out):\n",
    "    df = pd.read_csv(file_in)\n",
    "    df.fillna('', inplace=True)\n",
    "    regex = re.compile(r'\\b(demo)\\b', re.IGNORECASE)\n",
    "    df = df[df['name'].str.contains(regex)]\n",
    "    df.to_csv(file_out, index=False)\n",
    "\n",
    "filter_demo('all_games_v3.csv', 'all_games_demos.csv')"
   ]
  },
  {
   "cell_type": "markdown",
   "metadata": {},
   "source": [
    "2. Filter 'dlc' from all_games_nl.csv"
   ]
  },
  {
   "cell_type": "code",
   "execution_count": 7,
   "metadata": {},
   "outputs": [],
   "source": [
    "# We filter dlc from the all_games_nl.csv file\n",
    "def filter_dlc(file_in, file_out):\n",
    "    df = pd.read_csv(file_in)\n",
    "    df.fillna('', inplace=True)\n",
    "    df = df[df['name'].str.contains('dlc', case=False)]\n",
    "    df.to_csv(file_out, index=False)\n",
    "\n",
    "filter_dlc('all_games_v3.csv', 'all_games_dlc.csv')"
   ]
  },
  {
   "cell_type": "markdown",
   "metadata": {},
   "source": [
    "3. Filter 'OST' & 'Soundtrack' from all_games_nl.csv"
   ]
  },
  {
   "cell_type": "code",
   "execution_count": 8,
   "metadata": {},
   "outputs": [
    {
     "name": "stderr",
     "output_type": "stream",
     "text": [
      "/var/folders/jj/dtp054bj5_3_b929z039xmfc0000gn/T/ipykernel_12193/1723397395.py:8: UserWarning: This pattern is interpreted as a regular expression, and has match groups. To actually get the groups, use str.extract.\n",
      "  df = df[df['name'].str.contains(regex)]\n"
     ]
    }
   ],
   "source": [
    "# We filter OST & SOundtracks from the all_games_nl.csv file\n",
    "import re\n",
    "\n",
    "def filter_OST(file_in, file_out):\n",
    "    df = pd.read_csv(file_in)\n",
    "    df.fillna('', inplace=True)\n",
    "    regex = re.compile(r'\\b(OST|Soundtrack|Sound Track|Sound-track)\\b', re.IGNORECASE)\n",
    "    df = df[df['name'].str.contains(regex)]\n",
    "    df.to_csv(file_out, index=False)\n",
    "\n",
    "filter_OST('all_games_v3.csv', 'all_games_OST_soundTrack.csv')"
   ]
  }
 ],
 "metadata": {
  "kernelspec": {
   "display_name": "Python 3.9.16 ('CHB')",
   "language": "python",
   "name": "python3"
  },
  "language_info": {
   "codemirror_mode": {
    "name": "ipython",
    "version": 3
   },
   "file_extension": ".py",
   "mimetype": "text/x-python",
   "name": "python",
   "nbconvert_exporter": "python",
   "pygments_lexer": "ipython3",
   "version": "3.9.16"
  },
  "orig_nbformat": 4,
  "vscode": {
   "interpreter": {
    "hash": "d1b8c5f13a2b3388d1951f27a71a86fd54b291402740260198a37fa8b473b796"
   }
  }
 },
 "nbformat": 4,
 "nbformat_minor": 2
}
