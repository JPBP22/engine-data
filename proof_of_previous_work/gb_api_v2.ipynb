{
 "cells": [
  {
   "cell_type": "code",
   "execution_count": 3,
   "metadata": {},
   "outputs": [],
   "source": [
    "import requests\n",
    "import csv\n",
    "import formatter\n",
    "\n",
    "def retrieve_games_info(game_name):\n",
    "    \n",
    "    game_name = formatter.formatter(game_name)\n",
    "    # API endpoint to retrieve game details\n",
    "    endpoint = \"https://www.giantbomb.com/api/search\"\n",
    "\n",
    "    # API key, you'll need to sign up for a free API key to use the GiantBomb API\n",
    "    api_key = \"\"\n",
    "\n",
    "    # Query parameters for the API request\n",
    "    params = {\n",
    "        \"api_key\": api_key,\n",
    "        \"format\": \"json\",\n",
    "        \"query\": game_name,\n",
    "        \"resources\": \"game\",\n",
    "        \"field_list\": \"name,expected_release_day,platforms,characters,dlcs,concepts,franchises,genres,regions,releases,description\",\n",
    "        \"limit\": 1000 # Limit the number of results to 1000\n",
    "    }\n",
    "\n",
    "    headers = {\n",
    "    \"User-Agent\": \"Mozilla/5.0 (Windows NT 10.0; Win64; x64) AppleWebKit/537.36 (KHTML, like Gecko) Chrome/58.0.3029.110 Safari/537.3\",\n",
    "    \"Accept\": \"*/*\",\n",
    "    \"Referer\": \"https://www.giantbomb.com\",\n",
    "    \"Connection\": \"keep-alive\"\n",
    "    }\n",
    "\n",
    "    # Send the API request and retrieve the response\n",
    "    response = requests.get(endpoint, params=params, headers=headers)\n",
    "    # Check if the response was successful\n",
    "    if response.status_code == 200:\n",
    "        # Extract the games information from the response\n",
    "        games_info = response.json()[\"results\"]\n",
    "        # Filter the games to include only the ones available on Steam\n",
    "        #steam_games = [game for game in games_info if \"Steam\" in [platform[\"name\"] for platform in game[\"platforms\"]]]\n",
    "        #print(steam_games)\n",
    "        return games_info\n",
    "\n",
    "def save_to_csv(games_info, file_name):\n",
    "    # Write the games information to a CSV file\n",
    "    with open(file_name, \"w\", newline=\"\") as csvfile:\n",
    "        writer = csv.DictWriter(csvfile, fieldnames=[\"Name\", \"Description\", \"Expected Release Day\", \"Original Release Date\", \"Characters\", \"DLCs\", \"Concepts\", \"Franchises\", \"Genres\", \"Regions\", \"Releases\"])\n",
    "        writer.writeheader()\n",
    "        for game in games_info:\n",
    "            writer.writerow({\n",
    "                \"Name\": game[\"name\"],\n",
    "                \"Description\": game.get(\"description\", \"\"),\n",
    "                \"Expected Release Day\": game.get(\"expected_release_day\", \"\"),\n",
    "                \"Original Release Date\": game.get(\"original_release_date\", \"\"),\n",
    "                \"Characters\": \", \".join([character[\"name\"] for character in game.get(\"characters\", [])]),\n",
    "                \"DLCs\": \", \".join([dlc[\"name\"] for dlc in game.get(\"dlcs\", [])]),\n",
    "                \"Concepts\": \", \".join([concept[\"name\"] for concept in game.get(\"concepts\", [])]),\n",
    "                \"Franchises\": \", \".join([franchise[\"name\"] for franchise in game.get(\"franchises\", [])]),\n",
    "                \"Genres\": \", \".join([genre[\"name\"] for genre in game.get(\"genres\", [])]),\n",
    "                \"Regions\": \", \".join([region[\"name\"] for region in game.get(\"regions\", [])]),\n",
    "                \"Releases\": \", \".join([release[\"name\"] for release in game.get(\"releases\", [])])\n",
    "            })\n",
    "\n",
    "# Example usage\n",
    "games_info = retrieve_games_info(\"The Elder Scrolls V: Skyrim\")\n",
    "save_to_csv(games_info, \"steam_games.csv\")"
   ]
  }
 ],
 "metadata": {
  "kernelspec": {
   "display_name": "reco",
   "language": "python",
   "name": "python3"
  },
  "language_info": {
   "codemirror_mode": {
    "name": "ipython",
    "version": 3
   },
   "file_extension": ".py",
   "mimetype": "text/x-python",
   "name": "python",
   "nbconvert_exporter": "python",
   "pygments_lexer": "ipython3",
   "version": "3.9.16"
  },
  "orig_nbformat": 4,
  "vscode": {
   "interpreter": {
    "hash": "33fc969e8aecb9f9eca8f8b971b4122443ba3dd4486b40288e8a8bcd01410d5f"
   }
  }
 },
 "nbformat": 4,
 "nbformat_minor": 2
}
