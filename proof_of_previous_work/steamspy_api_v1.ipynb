{
 "cells": [
  {
   "cell_type": "code",
   "execution_count": 2,
   "metadata": {},
   "outputs": [],
   "source": [
    "# (Semi-Working version) Combine all the data, both games and game details\n",
    "import aiohttp\n",
    "import asyncio\n",
    "import pandas as pd\n",
    "import time\n",
    "\n",
    "async def fetch_game_details(session, appid):\n",
    "    async with session.get(f\"https://steamspy.com/api.php?request=appdetails&appid={appid}\") as resp:\n",
    "        return await resp.json()\n",
    "\n",
    "async def fetch_games(session):\n",
    "    async with session.get(\"https://api.steampowered.com/ISteamApps/GetAppList/v2\") as resp:\n",
    "        return await resp.json()\n",
    "\n",
    "async def save_games_to_csv(session,games):\n",
    "    games_data = []\n",
    "    request_count = 0\n",
    "    batch = 0\n",
    "    batch_size = 0\n",
    "    for game in games[\"applist\"][\"apps\"][batch:150000]:\n",
    "        game_details = await fetch_game_details(session, game[\"appid\"])\n",
    "        request_count += 1\n",
    "        if request_count == 1000:\n",
    "            time.sleep(60)\n",
    "            request_count = 0\n",
    "        if game_details:\n",
    "            data = game_details\n",
    "            games_data.append((game[\"appid\"], game[\"name\"], data.get(\"price\", \"0\"), data.get(\"developer\", \"\"), data.get(\"publisher\", \"\"), data.get(\"average_forever\", 0), data.get(\"median_forever\", 0), data.get(\"ccu\", 0), data.get(\"genre\", [])))\n",
    "            batch_size += 1\n",
    "        if batch_size == 25000:\n",
    "            df = pd.DataFrame(games_data, columns=[\"appid\", \"name\", \"price\", \"developer\", \"publisher\", \"average_forever\", \"median_forever\", \"ccu\", \"genres\"])\n",
    "            df.to_csv(\"all_games.csv\", mode=\"a\", header=False, index=False)\n",
    "            games_data = []\n",
    "            break\n",
    "\n",
    "    '''''\n",
    "    df = pd.DataFrame(games_data, columns=[\"appid\", \"name\", \"price\", \"developer\", \"publisher\", \"average_forever\", \"median_forever\", \"ccu\", \"genres\"])\n",
    "    df.to_csv(\"all_games.csv\", index=False)\n",
    "    return df\n",
    "    '''''\n",
    "\n",
    "async def main():\n",
    "    async with aiohttp.ClientSession() as session:\n",
    "        games = await fetch_games(session)\n",
    "        await save_games_to_csv(session, games)\n",
    "\n",
    "if __name__ == \"__main__\":\n",
    "     await main()"
   ]
  }
 ],
 "metadata": {
  "kernelspec": {
   "display_name": "CHB",
   "language": "python",
   "name": "python3"
  },
  "language_info": {
   "codemirror_mode": {
    "name": "ipython",
    "version": 3
   },
   "file_extension": ".py",
   "mimetype": "text/x-python",
   "name": "python",
   "nbconvert_exporter": "python",
   "pygments_lexer": "ipython3",
   "version": "3.9.16"
  },
  "orig_nbformat": 4,
  "vscode": {
   "interpreter": {
    "hash": "ce357db0915fc0a027006e75aee71844666e87d7e9f18e9be1345bd559b497a0"
   }
  }
 },
 "nbformat": 4,
 "nbformat_minor": 2
}
