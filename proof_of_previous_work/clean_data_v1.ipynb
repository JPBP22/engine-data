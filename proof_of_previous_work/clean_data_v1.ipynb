{
 "cells": [
  {
   "cell_type": "code",
   "execution_count": 3,
   "metadata": {},
   "outputs": [],
   "source": [
    "import pandas as pd"
   ]
  },
  {
   "cell_type": "code",
   "execution_count": 4,
   "metadata": {},
   "outputs": [],
   "source": [
    "# Load the CSV file into a DataFrame\n",
    "df = pd.read_csv('games.csv')\n",
    "\n",
    "# Remove rows where the \"genres\" column is empty\n",
    "df = df[df['genres'] != '[]']\n",
    "# Divide each value in the \"price\" column by 100 to convert it to float\n",
    "df['price'] = df['price'].apply(lambda x: x/100)\n",
    "# Format the float values in the \"price\" column to have 2 decimal places\n",
    "df['price'] = df['price'].apply(lambda x: '${:,.2f}'.format(x))\n",
    "\n",
    "# Save the updated DataFrame to a new CSV file\n",
    "df.to_csv('file_cleaned.csv', index=False)"
   ]
  }
 ],
 "metadata": {
  "kernelspec": {
   "display_name": "CHB",
   "language": "python",
   "name": "python3"
  },
  "language_info": {
   "codemirror_mode": {
    "name": "ipython",
    "version": 3
   },
   "file_extension": ".py",
   "mimetype": "text/x-python",
   "name": "python",
   "nbconvert_exporter": "python",
   "pygments_lexer": "ipython3",
   "version": "3.9.16"
  },
  "orig_nbformat": 4,
  "vscode": {
   "interpreter": {
    "hash": "ce357db0915fc0a027006e75aee71844666e87d7e9f18e9be1345bd559b497a0"
   }
  }
 },
 "nbformat": 4,
 "nbformat_minor": 2
}
